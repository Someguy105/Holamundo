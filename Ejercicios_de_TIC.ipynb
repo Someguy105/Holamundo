{
  "nbformat": 4,
  "nbformat_minor": 0,
  "metadata": {
    "colab": {
      "provenance": [],
      "authorship_tag": "ABX9TyMy+IbWF3RVpWTlTESDc4yR",
      "include_colab_link": true
    },
    "kernelspec": {
      "name": "python3",
      "display_name": "Python 3"
    },
    "language_info": {
      "name": "python"
    }
  },
  "cells": [
    {
      "cell_type": "markdown",
      "metadata": {
        "id": "view-in-github",
        "colab_type": "text"
      },
      "source": [
        "<a href=\"https://colab.research.google.com/github/Someguy105/Holamundo/blob/main/Ejercicios_de_TIC.ipynb\" target=\"_parent\"><img src=\"https://colab.research.google.com/assets/colab-badge.svg\" alt=\"Open In Colab\"/></a>"
      ]
    },
    {
      "cell_type": "markdown",
      "source": [],
      "metadata": {
        "id": "o6_NHe-vggYW"
      }
    },
    {
      "cell_type": "markdown",
      "source": [
        "1. Hola Mundo: Escribe un programa que imprima \"Hola, Mundo!\" en la pantalla.\n"
      ],
      "metadata": {
        "id": "oYjgd9pNhSps"
      }
    },
    {
      "cell_type": "code",
      "source": [
        "print(\"Hola, Mundo!\")\n",
        "#Usamos print para mostrar el mensaje: Hola, Mundo!"
      ],
      "metadata": {
        "colab": {
          "base_uri": "https://localhost:8080/"
        },
        "id": "u_RNi4G3hniF",
        "outputId": "ee69bc38-576e-4477-f4bf-a56c6d484b1c"
      },
      "execution_count": null,
      "outputs": [
        {
          "output_type": "stream",
          "name": "stdout",
          "text": [
            "Hola, Mundo!\n"
          ]
        }
      ]
    },
    {
      "cell_type": "markdown",
      "source": [
        "2. Suma de dos números: Escribe un programa que pida al usuario dos números y los sume.\n"
      ],
      "metadata": {
        "id": "1nZ8tLFKhttE"
      }
    },
    {
      "cell_type": "code",
      "source": [
        "a = int(input(\"Ingrese un número para sumar:\"))\n",
        "b = int(input(\"Ingrese un número para sumar:\"))\n",
        "#Se ingresa dos numeros con la función input dentro de las variables a y b\n",
        "c = a + b\n",
        "#Se suma nuestras variables a y b y se guarda en la variable c\n",
        "print(\"La suma es: \", c)\n",
        "#Imprime el resultado, es decir, nuestra variable c"
      ],
      "metadata": {
        "colab": {
          "base_uri": "https://localhost:8080/"
        },
        "id": "NQG8GF4Fh1Lv",
        "outputId": "d793a0cd-12c5-423f-ec8a-bd7068377a81"
      },
      "execution_count": null,
      "outputs": [
        {
          "output_type": "stream",
          "name": "stdout",
          "text": [
            "Ingrese un número para sumar:3\n",
            "Ingrese un número para sumar:6\n",
            "La suma es:  9\n"
          ]
        }
      ]
    },
    {
      "cell_type": "markdown",
      "source": [
        "3. Par o Impar: Escribe un programa que determine si un número introducido por el usuario es par o impar.\n"
      ],
      "metadata": {
        "id": "ZTfcrGniiRzA"
      }
    },
    {
      "cell_type": "code",
      "source": [
        "numero = int(input(\"Ingrese un número: \"))\n",
        "#Se ingresa un número con la función input y se guarda en la variable numero\n",
        "if numero % 2 == 0:\n",
        "  print(\"El número es par.\")\n",
        "else:\n",
        "  print(\"El número es impar.\")\n",
        "#Usamos el bucle if para que determinar si es par o impar. Calculamos el valor de la variable numero con el modulo dos\n",
        "#Si el residuo del modulo es igual a 0 es par, sin embargo, si no es igual a 0 es impar"
      ],
      "metadata": {
        "id": "0VXO0dTEilx0",
        "colab": {
          "base_uri": "https://localhost:8080/"
        },
        "outputId": "070f829b-4d08-408b-cdb3-43eb0790621c"
      },
      "execution_count": null,
      "outputs": [
        {
          "output_type": "stream",
          "name": "stdout",
          "text": [
            "Ingrese un número: 7\n",
            "El número es impar.\n"
          ]
        }
      ]
    },
    {
      "cell_type": "markdown",
      "source": [
        "4. Calculadora básica: Escribe un programa que realice operaciones básicas (suma, resta, multiplicación y división) entre dos números introducidos por el usuario.\n"
      ],
      "metadata": {
        "id": "FAtpp3CEis6a"
      }
    },
    {
      "cell_type": "code",
      "source": [
        "a = int(input(\"Ingrese el primer número: \"))\n",
        "b = int(input(\"Ingrese el segundo número: \"))\n",
        "#Se ingresa dos numeros con la función input y se guardan en las variables a y b\n",
        "\n",
        "print(\"Seleccione la operación a realizar:\")\n",
        "print(\"1. Suma\")\n",
        "print(\"2. Resta\")\n",
        "print(\"3. Multiplicación\")\n",
        "print(\"4. División\")\n",
        "#Se imprime un pequeño menú para que el usuario escoja que operación quiere realizar\n",
        "\n",
        "operacion = int(input(\"Ingrese el número correspondiente a la operación: \"))\n",
        "#Se ingreasa cualquier opción que usuario escoja que está mostrada en el menu\n",
        "\n",
        "if operacion == 1:\n",
        "  resultado = a + b\n",
        "  print(\"El resultado de la suma es:\", resultado)\n",
        "  #La opcion 1 suma los valores de a y b\n",
        "elif operacion == 2:\n",
        "  resultado = a - b\n",
        "  print(\"El resultado de la resta es:\", resultado)\n",
        "  #La opción 2 resta los valores de a y b\n",
        "elif operacion == 3:\n",
        "  resultado = a * b\n",
        "  print(\"El resultado de la multiplicación es:\", resultado)\n",
        "  #La opcion 3 multiplica los valores de a y b\n",
        "elif operacion == 4:\n",
        "  resultado = a / b\n",
        "  print(\"El resultado de la división es:\", resultado)\n",
        "  #La opcion 4 divide los valores de a y b\n",
        "else:\n",
        "  print(\"Operación inválida.\")\n",
        "  #La opción 5 imprime que la opción que escogió es inválida"
      ],
      "metadata": {
        "id": "iI4T_GSIi5CS",
        "colab": {
          "base_uri": "https://localhost:8080/"
        },
        "outputId": "1744b967-cc30-467f-a49f-f13ab7066fb4"
      },
      "execution_count": null,
      "outputs": [
        {
          "output_type": "stream",
          "name": "stdout",
          "text": [
            "Ingrese el primer número: 2\n",
            "Ingrese el segundo número: 4\n",
            "Seleccione la operación a realizar:\n",
            "1. Suma\n",
            "2. Resta\n",
            "3. Multiplicación\n",
            "4. División\n",
            "Ingrese el número correspondiente a la operación: 9\n",
            "Operación inválida.\n"
          ]
        }
      ]
    },
    {
      "cell_type": "markdown",
      "source": [
        "5. Número mayor: Escribe un programa que pida tres números al usuario y determine cuál es el mayor.\n"
      ],
      "metadata": {
        "id": "yniPNel2i7kG"
      }
    },
    {
      "cell_type": "code",
      "source": [
        "a = int(input(\"Ingrese el primer número: \"))\n",
        "b = int(input(\"Ingrese el segundo número: \"))\n",
        "c = int(input(\"Ingrese el tercer número: \"))\n",
        "#Se ingresa tres numeros con la función input y se guarda en las variables a, b y c\n",
        "mayor = max(a, b, c)\n",
        "#Usamos la funcion max para calcular cual de los tres valores (a, b, c) es mayor y se guarda en la variable mayor\n",
        "print(\"El número mayor es:\", mayor)\n",
        "#Se imprime el número mayor que se sitúa en la variable mayor"
      ],
      "metadata": {
        "id": "r05aEYpUjHAZ"
      },
      "execution_count": null,
      "outputs": []
    },
    {
      "cell_type": "markdown",
      "source": [
        "6. Cálculo del área de un círculo: Escribe un programa que calcule el área de un círculo a partir de su radio, ingresado por el usuario."
      ],
      "metadata": {
        "id": "VPMAV3_AjLKH"
      }
    },
    {
      "cell_type": "code",
      "source": [
        "r = int(input(\"Ingrese el radio del círculo: \"))\n",
        "#Ingresa un número que va ser el radio de nuestro circulo y se guardaen la variable r\n",
        "area = 3.14 * r**2\n",
        "#Calcula el area del circulo, a partir de su formula y el radio ingresado por el usuario y se guarda en la variable area\n",
        "print(\"El área del círculo es:\", area)\n",
        "#Imprime el area del circulo que está situado en la variable area"
      ],
      "metadata": {
        "id": "TQnLZl6PjSvb"
      },
      "execution_count": null,
      "outputs": []
    },
    {
      "cell_type": "markdown",
      "source": [
        "7. Conversión de grados Celsius a Fahrenheit: Escribe un programa que convierta una temperatura dada en grados Celsius a grados Fahrenheit."
      ],
      "metadata": {
        "id": "OahXvCkwjVta"
      }
    },
    {
      "cell_type": "code",
      "source": [
        "c = int(input(\"Ingrese el primer número para la conversión de grados Celsius a Fahrenheit: \"))\n",
        "#Se ingresa un número que se va a convertir de Celsius a Fahrenheit\n",
        "f = (9/5)*c + 32\n",
        "#Se usa la formula de la conversión\n",
        "print(f\"Usted ingresó {c} grados Celsius y lo conviertio a {f} grados Fahrenheit\")\n",
        "#Imprime la conversion dando de resultado la temperatura de Celsius a Fahrenheit"
      ],
      "metadata": {
        "id": "NBtybC8hjfFi",
        "colab": {
          "base_uri": "https://localhost:8080/"
        },
        "outputId": "5cb1bf6d-8707-464b-c1b4-94abddf7577d"
      },
      "execution_count": null,
      "outputs": [
        {
          "output_type": "stream",
          "name": "stdout",
          "text": [
            "Ingrese el primer número para la conversión de grados Celsius a Fahrenheit: 40\n",
            "Usted ingresó 40 grados Celsius y lo conviertio a 104.0 grados Fahrenheit\n"
          ]
        }
      ]
    },
    {
      "cell_type": "markdown",
      "source": [
        "8. Cuenta atrás: Escribe un programa que cuente hacia atrás desde 10 hasta 0.\n"
      ],
      "metadata": {
        "id": "CuwEzi8SjtCI"
      }
    },
    {
      "cell_type": "code",
      "source": [
        "for i in range(10, -1, -1):\n",
        "  print(i)\n",
        "#Se usa un bucle for para comenzar desde 10 hasta 0. En este bucle tenemos tres argumentos\n",
        "#el primer argumento 10 es valor incial de la secuencia, el segundo argumento -1\n",
        "#es el valor final de la secuencia (0) y el tercer argumento -1 indica que decrementa el valor de i por menos uno"
      ],
      "metadata": {
        "colab": {
          "base_uri": "https://localhost:8080/"
        },
        "id": "iN-F9zhlj1fC",
        "outputId": "2fa99ae1-be5e-4ef0-db8c-ed3b4d608c8d"
      },
      "execution_count": null,
      "outputs": [
        {
          "output_type": "stream",
          "name": "stdout",
          "text": [
            "10\n",
            "9\n",
            "8\n",
            "7\n",
            "6\n",
            "5\n",
            "4\n",
            "3\n",
            "2\n",
            "1\n"
          ]
        }
      ]
    },
    {
      "cell_type": "markdown",
      "source": [
        "9. Tabla de multiplicar: Escribe un programa que muestre la tabla de multiplicar de un número introducido por el usuario."
      ],
      "metadata": {
        "id": "G9isyJYuj3cL"
      }
    },
    {
      "cell_type": "code",
      "source": [
        "numero = int(input(\"Ingrese el número para el cual desea ver la tabla de multiplicar: \"))\n",
        "#Se ingresa un número para mostrar la tabla de multiplicación de dicho número y se guarda en la variable numero\n",
        "for i in range(1, 11):\n",
        "  resultado = numero * i\n",
        "  #Se calcula el resultado de cada multiplicación de la tabla\n",
        "  print(f\"{numero} x {i} = {resultado}\")\n",
        "#Se usa un bucle for para imprimir cada multiplicación y su respectivo resultado de la tabla"
      ],
      "metadata": {
        "id": "wobEspsij8Ur",
        "colab": {
          "base_uri": "https://localhost:8080/"
        },
        "outputId": "1420ffce-a0f5-4eae-abd1-54191eb47580"
      },
      "execution_count": null,
      "outputs": [
        {
          "output_type": "stream",
          "name": "stdout",
          "text": [
            "Ingrese el número para el cual desea ver la tabla de multiplicar: 1\n",
            "1 x 1 = 1\n",
            "1 x 2 = 2\n",
            "1 x 3 = 3\n",
            "1 x 4 = 4\n",
            "1 x 5 = 5\n",
            "1 x 6 = 6\n",
            "1 x 7 = 7\n",
            "1 x 8 = 8\n",
            "1 x 9 = 9\n",
            "1 x 10 = 10\n"
          ]
        }
      ]
    },
    {
      "cell_type": "markdown",
      "source": [
        "10. Números primos: Escribe un programa que determine si un número introducido por el usuario es primo.\n"
      ],
      "metadata": {
        "id": "LAhBQYWmkDND"
      }
    },
    {
      "cell_type": "code",
      "source": [
        "numero = int(input(\"Ingrese un número: \"))\n",
        "#Se ingresa un número y se guarda en la variable numero\n",
        "if numero <= 1:\n",
        "  print(\"El número no es primo.\")\n",
        "  #En un bucle if se comprueba si el número es menor o igual a 1, si es así, se imprime que no es primo y termina el programa\n",
        "else:\n",
        "  for i in range(2, numero):\n",
        "    if numero % i == 0:\n",
        "      print(\"El número no es primo.\")\n",
        "      break\n",
        "      #Si es divisible por algún número, se imprime que no es primo y se termina el programa\n",
        "  else:\n",
        "    print(\"El número es primo.\")\n",
        "    #Si no es divisible por ningún número entre 2 y el número introducido, se imprime que es primo"
      ],
      "metadata": {
        "colab": {
          "base_uri": "https://localhost:8080/"
        },
        "id": "2WO0lQlOkHk2",
        "outputId": "c58f865c-64cf-4b73-afbc-3e2534904709"
      },
      "execution_count": null,
      "outputs": [
        {
          "output_type": "stream",
          "name": "stdout",
          "text": [
            "Ingrese un número: 11\n",
            "El número es primo.\n"
          ]
        }
      ]
    },
    {
      "cell_type": "markdown",
      "source": [
        "11. Sumar números hasta un límite: Escribe un programa que sume todos los números naturales hasta un número límite introducido por el usuario.\n"
      ],
      "metadata": {
        "id": "vMxQTlBOkLvi"
      }
    },
    {
      "cell_type": "code",
      "source": [
        "limite = int(input(\"Ingrese el número límite: \"))\n",
        "#Se ingresa un número y se guarda en la variable limite\n",
        "suma = 0\n",
        "#Se inicializa la variable suma, donde, asignamos el valor de cero\n",
        "for i in range(1, limite + 1):\n",
        "  suma += i\n",
        "#Usamos el bucle for para ir de rango con la iteración i desde 1 hasta el valor de la variable limite (para esto se necesita sumarlo mas uno)\n",
        "#Luego sumamos cada iteración de i y el resultado se guarda en la variabla suma hasta que hayamos recorrido todo el rango\n",
        "print(f\"La suma de todos los números naturales hasta {limite} es: {suma}\")\n",
        "#Se imprime el resultado de la suma de todos los números naturales hasta el límite introducido por el usuario"
      ],
      "metadata": {
        "id": "MWD8e6axkQpu",
        "colab": {
          "base_uri": "https://localhost:8080/"
        },
        "outputId": "8b10a6e2-f982-4f58-b604-b55d121d2307"
      },
      "execution_count": null,
      "outputs": [
        {
          "output_type": "stream",
          "name": "stdout",
          "text": [
            "Ingrese el número límite: 5\n",
            "La suma de todos los números naturales hasta 5 es: 15\n"
          ]
        }
      ]
    },
    {
      "cell_type": "markdown",
      "source": [
        "12. Invertir una cadena: Escribe un programa que invierta una cadena introducida por el usuario.\n"
      ],
      "metadata": {
        "id": "-J7Nx3g8kUCO"
      }
    },
    {
      "cell_type": "code",
      "source": [
        "cadena = input(\"Ingrese la cadena a invertir: \")\n",
        "#Se ingresa una cadena de texto y se guarda en la variable cadena\n",
        "cadena_invertida = \"\"\n",
        "#Se inicializa la variable cadena_invertida, donde, le asignamos un string vacío\n",
        "for i in range(len(cadena) - 1, -1, -1):\n",
        "#Se utiliza el bucle para iterar cada letra de la cadena dentro de un rango\n",
        "#El primer argumento usamos la función len para cuantificar la cadena y indica el índice del último carácter de la cadena\n",
        "#El segundo argumento indica el índice del primer carácter de la cadena\n",
        "#El tercer argumento indica que decrementa el valor de i por menos uno\n",
        "  cadena_invertida += cadena[i]\n",
        "  #Cada iteración se guarda la letra en un nuevo índice\n",
        "print(\"La cadena invertida es:\", cadena_invertida)\n",
        "#Se imprime la cadena invertida con la variable cadena_invertida"
      ],
      "metadata": {
        "id": "uOKNEhMukYBZ",
        "colab": {
          "base_uri": "https://localhost:8080/"
        },
        "outputId": "525dd9d7-f80e-43f8-ba09-9830d4602154"
      },
      "execution_count": null,
      "outputs": [
        {
          "output_type": "stream",
          "name": "stdout",
          "text": [
            "Ingrese la cadena a invertir: Hola Mundo!\n",
            "La cadena invertida es: !odnuM aloH\n"
          ]
        }
      ]
    },
    {
      "cell_type": "markdown",
      "source": [
        "13. Contar vocales: Escribe un programa que cuente el número de vocales en una cadena introducida por el usuario."
      ],
      "metadata": {
        "id": "lQsqgfHWkbZI"
      }
    },
    {
      "cell_type": "code",
      "source": [
        "cadena = input(\"Ingrese una cadena: \")\n",
        "#Se ingresa una cadena de texto y se guarda en la variable cadena\n",
        "vocales = \"aeiou\"\n",
        "#Se inicializa la variable vocales que contiene las vocales\n",
        "numero_vocales = 0\n",
        "#Se inicializa la variable numero_vocales, donde, asignamos el valor de 0\n",
        "for letra in cadena:\n",
        "  if letra in vocales:\n",
        "  #Se utiliza el bucle if para que cada iteración de nuestra cadena tiene una vocal incrementa por uno y se guarde en nuestra variable numeros_vocales\n",
        "    numero_vocales += 1\n",
        "#Se utiliza el bucle for para que itere cada caracter o letra en nuestra cadena (nuestra iteración tiene el nombre de letra)\n",
        "print(f\"La cadena '{cadena}' contiene {numero_vocales} vocales.\")\n",
        "#Imprime nuestra cadena y cuantas vocales contiene dicha cadena"
      ],
      "metadata": {
        "id": "JKWskBFDkf1o",
        "colab": {
          "base_uri": "https://localhost:8080/"
        },
        "outputId": "cf423697-574d-42ee-888a-1e27bec4497c"
      },
      "execution_count": null,
      "outputs": [
        {
          "output_type": "stream",
          "name": "stdout",
          "text": [
            "Ingrese una cadena: hola mundo+_?\n",
            "La cadena 'hola mundo+_?' contiene 4 vocales.\n"
          ]
        }
      ]
    },
    {
      "cell_type": "markdown",
      "source": [
        "14. Palíndromo: Escribe un programa que determine si una cadena introducida por el usuario es un palíndromo.\n"
      ],
      "metadata": {
        "id": "761DjrrlkmDW"
      }
    },
    {
      "cell_type": "code",
      "source": [
        "cadena = input(\"Ingrese una cadena: \")\n",
        "#Se ingresa una cadena de texto y se guarda en la variable cadena\n",
        "cadena_invertida = \"\"\n",
        "#Se inicializa la variable cadena_invertida, donde, le asignamos un string vacío\n",
        "for i in range(len(cadena) - 1, -1, -1):\n",
        "#Se utiliza el bucle para iterar cada letra de la cadena dentro de un rango\n",
        "#El primer argumento usamos la función len para cuantificar la cadena y indica el índice del último carácter de la cadena\n",
        "#El segundo argumento indica el índice del primer carácter de la cadena\n",
        "#El tercer argumento indica que decrementa el valor de i por menos uno\n",
        "  cadena_invertida += cadena[i]\n",
        "  #Cada iteración se guarda la letra en un nuevo índice\n",
        "if cadena == cadena_invertida:\n",
        "  print(f\"La cadena '{cadena}' es un palíndromo.\")\n",
        "else:\n",
        "  print(f\"La cadena '{cadena}' no es un palíndromo.\")\n",
        "#Se utiliza un bucle if para comparar la cadena original con la cadena invertida\n",
        "#Si las cadenas son iguales, se imprime que la cadena es un palíndromo\n",
        "#Si las cadenas no son iguales, se imprime que la cadena no es un palíndromo\n"
      ],
      "metadata": {
        "id": "jTLiT1L8kpBP"
      },
      "execution_count": null,
      "outputs": []
    },
    {
      "cell_type": "markdown",
      "source": [
        "15. Factorial de un número: Escribe un programa que calcule el factorial de un número introducido por el usuario.\n"
      ],
      "metadata": {
        "id": "jajwmHPRksiK"
      }
    },
    {
      "cell_type": "code",
      "source": [
        "numero = int(input(\"Ingrese un número para calcular su factorial: \"))\n",
        "#Se ingresa un número para calcular su factorial y se guarda en la variable numero\n",
        "factorial = 1\n",
        "#Declaramos la variable factorial y le asignamos el valor de uno\n",
        "for i in range(1, numero + 1):\n",
        "  factorial *= i\n",
        "  #Usamos el bucle for para ir de rango con la iteración i desde 1 hasta el valor de la variable numero (para esto se necesita sumarlo mas uno)\n",
        "  #Luego multiplicamos cada iteración de i y el resultado se guarda en la variabla factorial hasta que hayamos recorrido todo el rango\n",
        "print(f\"El factorial de {numero} es: {factorial}\")\n",
        "#Se imprime el factorial del número ingresado"
      ],
      "metadata": {
        "id": "Lop5_BDGkwBc"
      },
      "execution_count": null,
      "outputs": []
    },
    {
      "cell_type": "markdown",
      "source": [
        "16. Generar números aleatorios: Escribe un programa que genere y muestre 5 números aleatorios entre 1 y 100"
      ],
      "metadata": {
        "id": "ikkpNwsjk3Jd"
      }
    },
    {
      "cell_type": "code",
      "source": [
        "import random\n",
        "#Importamos la librería random para usar la función random para generar numeros aletorios\n",
        "for i in range(5):\n",
        "  #Se utiliza el bucle for para que itere cinco números\n",
        "  numero = random.randint(1, 100)\n",
        "  #Se utiliza la función randint con el modulo random para generar numeros aletorios entre el 1 al 100\n",
        "  print(numero)\n",
        "  #Se imprime los numeros aletorios gracias a nuestra función randint"
      ],
      "metadata": {
        "id": "9rdv-yR5k58r",
        "colab": {
          "base_uri": "https://localhost:8080/"
        },
        "outputId": "de487966-2813-433c-956e-3f4dadc8c2b8"
      },
      "execution_count": null,
      "outputs": [
        {
          "output_type": "stream",
          "name": "stdout",
          "text": [
            "77\n",
            "53\n",
            "19\n",
            "37\n",
            "26\n"
          ]
        }
      ]
    },
    {
      "cell_type": "markdown",
      "source": [
        "17. Calculadora de índice de masa corporal (IMC): Escribe un programa que calcule el índice de masa corporal (IMC) a partir del peso y la altura introducidos por el usuario."
      ],
      "metadata": {
        "id": "wXq34saZlBVG"
      }
    },
    {
      "cell_type": "code",
      "source": [
        "peso = float(input(\"Ingrese su peso en kilogramos: \"))\n",
        "altura = float(input(\"Ingrese su altura en metros: \"))\n",
        "#Se ingresa numeros enteros o decimales y se guarda en las variables peso (en kilogramos) y altura (en metros)\n",
        "imc = peso / (altura ** 2)\n",
        "#Se calcula la formula del índice de masa corporal segun el peso y altura que ingresó el usuario\n",
        "print(f\"Su IMC es: {imc}\")\n",
        "#Se imprime el resultado del índice de masa corporal"
      ],
      "metadata": {
        "id": "oTJQoTrblEv9",
        "colab": {
          "base_uri": "https://localhost:8080/"
        },
        "outputId": "4339680a-cdf5-4a6c-d7bf-d39cf4cea446"
      },
      "execution_count": null,
      "outputs": [
        {
          "output_type": "stream",
          "name": "stdout",
          "text": [
            "Ingrese su peso en kilogramos: 80\n",
            "Ingrese su altura en metros: 1.77\n",
            "Su IMC es: 25.53544639152223\n"
          ]
        }
      ]
    }
  ]
}