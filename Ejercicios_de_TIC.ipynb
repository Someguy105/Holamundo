{
  "nbformat": 4,
  "nbformat_minor": 0,
  "metadata": {
    "colab": {
      "provenance": [],
      "authorship_tag": "ABX9TyNfd/ZtW2zzm9ElwEC6ngNW",
      "include_colab_link": true
    },
    "kernelspec": {
      "name": "python3",
      "display_name": "Python 3"
    },
    "language_info": {
      "name": "python"
    }
  },
  "cells": [
    {
      "cell_type": "markdown",
      "metadata": {
        "id": "view-in-github",
        "colab_type": "text"
      },
      "source": [
        "<a href=\"https://colab.research.google.com/github/Someguy105/Holamundo/blob/main/Ejercicios_de_TIC.ipynb\" target=\"_parent\"><img src=\"https://colab.research.google.com/assets/colab-badge.svg\" alt=\"Open In Colab\"/></a>"
      ]
    },
    {
      "cell_type": "markdown",
      "source": [],
      "metadata": {
        "id": "o6_NHe-vggYW"
      }
    },
    {
      "cell_type": "markdown",
      "source": [
        "1. Hola Mundo: Escribe un programa que imprima \"Hola, Mundo!\" en la pantalla.\n"
      ],
      "metadata": {
        "id": "oYjgd9pNhSps"
      }
    },
    {
      "cell_type": "code",
      "source": [
        "print(\"Hola, Mundo!\")\n",
        "#Usamos print para mostrar el mensaje Hola, Mundo!"
      ],
      "metadata": {
        "colab": {
          "base_uri": "https://localhost:8080/"
        },
        "id": "u_RNi4G3hniF",
        "outputId": "344fd7de-754e-4654-a2b4-555ae5d94dfb"
      },
      "execution_count": 9,
      "outputs": [
        {
          "output_type": "stream",
          "name": "stdout",
          "text": [
            "Hola, Mundo!\n"
          ]
        }
      ]
    },
    {
      "cell_type": "markdown",
      "source": [
        "2. Suma de dos números: Escribe un programa que pida al usuario dos números y los sume.\n"
      ],
      "metadata": {
        "id": "1nZ8tLFKhttE"
      }
    },
    {
      "cell_type": "code",
      "source": [
        "a = int(input(\"Ingrese un número para sumar:\"))\n",
        "b = int(input(\"Ingrese un número para sumar:\"))\n",
        "#Ingresa dos numeros con la función input\n",
        "c = a + b\n",
        "#Se suma nuestros inputs (a y b)\n",
        "print(\"La suma es: \", c)\n",
        "#Imprime el resultado"
      ],
      "metadata": {
        "colab": {
          "base_uri": "https://localhost:8080/"
        },
        "id": "NQG8GF4Fh1Lv",
        "outputId": "16a1f19f-dd80-46a3-bb09-a7db4c5dcf25"
      },
      "execution_count": 7,
      "outputs": [
        {
          "output_type": "stream",
          "name": "stdout",
          "text": [
            "Ingrese un número para sumar:1\n",
            "Ingrese un número para sumar:1\n",
            "La suma es:  2\n"
          ]
        }
      ]
    },
    {
      "cell_type": "markdown",
      "source": [
        "3. Par o Impar: Escribe un programa que determine si un número introducido por el usuario es par o impar.\n"
      ],
      "metadata": {
        "id": "ZTfcrGniiRzA"
      }
    },
    {
      "cell_type": "code",
      "source": [
        "numero = int(input(\"Ingrese un número: \"))\n",
        "#Ingresa un número con la función input\n",
        "if numero % 2 == 0:\n",
        "  print(\"El número es par.\")\n",
        "else:\n",
        "  print(\"El número es impar.\")\n",
        "#Usamos el bucle if para que si el residuo del modulo es igual 0, significa que es par, por lo contrario es impar"
      ],
      "metadata": {
        "id": "0VXO0dTEilx0"
      },
      "execution_count": null,
      "outputs": []
    },
    {
      "cell_type": "markdown",
      "source": [
        "4. Calculadora básica: Escribe un programa que realice operaciones básicas (suma, resta, multiplicación y división) entre dos números introducidos por el usuario.\n"
      ],
      "metadata": {
        "id": "FAtpp3CEis6a"
      }
    },
    {
      "cell_type": "code",
      "source": [
        "a = int(input(\"Ingrese el primer número: \"))\n",
        "b = int(input(\"Ingrese el segundo número: \"))\n",
        "#Ingresa dos numeros con la función input\n",
        "\n",
        "print(\"Seleccione la operación a realizar:\")\n",
        "print(\"1. Suma\")\n",
        "print(\"2. Resta\")\n",
        "print(\"3. Multiplicación\")\n",
        "print(\"4. División\")\n",
        "#Creamos un pequeño menu para que el usuario escoja que tipo de operación quiere realizar\n",
        "\n",
        "operacion = int(input(\"Ingrese el número correspondiente a la operación: \"))\n",
        "#Ingresa la opción mostrada en el menu\n",
        "\n",
        "if operacion == 1:\n",
        "  resultado = a + b\n",
        "  print(\"El resultado de la suma es:\", resultado)\n",
        "elif operacion == 2:\n",
        "  resultado = a - b\n",
        "  print(\"El resultado de la resta es:\", resultado)\n",
        "elif operacion == 3:\n",
        "  resultado = a * b\n",
        "  print(\"El resultado de la multiplicación es:\", resultado)\n",
        "elif operacion == 4:\n",
        "  resultado = a / b\n",
        "  print(\"El resultado de la división es:\", resultado)\n",
        "else:\n",
        "  print(\"Operación inválida.\")\n",
        "#En un bucle if usamos para que se ejecute la operación correcta. Si es 1, suma. Si es 2 resta, Si es 3 multiplica. Si es 4 divide los dos valores, por lo contario si no son ninguna de las opciones mencionadas devuelve que la opción ingresada es ivalida"
      ],
      "metadata": {
        "id": "iI4T_GSIi5CS"
      },
      "execution_count": null,
      "outputs": []
    },
    {
      "cell_type": "markdown",
      "source": [
        "5. Número mayor: Escribe un programa que pida tres números al usuario y determine cuál es el mayor.\n"
      ],
      "metadata": {
        "id": "yniPNel2i7kG"
      }
    },
    {
      "cell_type": "code",
      "source": [
        "a = int(input(\"Ingrese el primer número: \"))\n",
        "b = int(input(\"Ingrese el segundo número: \"))\n",
        "c = int(input(\"Ingrese el tercer número: \"))\n",
        "#Ingresa tres numeros con la función input\n",
        "mayor = max(a, b, c)\n",
        "#Usamos la funcion max para calcular cual de los tres valores es mayor y se guarda en la variable mayor\n",
        "print(\"El número mayor es:\", mayor)\n",
        "#Se imprime el número mayor"
      ],
      "metadata": {
        "id": "r05aEYpUjHAZ"
      },
      "execution_count": null,
      "outputs": []
    },
    {
      "cell_type": "markdown",
      "source": [
        "6. Cálculo del área de un círculo: Escribe un programa que calcule el área de un círculo a partir de su radio, ingresado por el usuario."
      ],
      "metadata": {
        "id": "VPMAV3_AjLKH"
      }
    },
    {
      "cell_type": "code",
      "source": [
        "a = int(input(\"Ingrese el radio del círculo: \"))\n",
        "#Ingresa un número que va ser el radio de nuestro circulo\n",
        "area = 3.14 * a**2\n",
        "#Calcula el area del circulo, a partir de su formula y el radio ingresado\n",
        "print(\"El área del círculo es:\", area)\n",
        "#Imprime el area del circulo"
      ],
      "metadata": {
        "id": "TQnLZl6PjSvb"
      },
      "execution_count": null,
      "outputs": []
    },
    {
      "cell_type": "markdown",
      "source": [
        "7. Conversión de grados Celsius a Fahrenheit: Escribe un programa que convierta una temperatura dada en grados Celsius a grados Fahrenheit."
      ],
      "metadata": {
        "id": "OahXvCkwjVta"
      }
    },
    {
      "cell_type": "code",
      "source": [
        "c = int(input(\"Ingrese el primer número para la conversión de grados Celsius a Fahrenheit: \"))\n",
        "#Ingresa un número que va convertir de Celsius a Fahrenheit\n",
        "f = (9/5)*c + 32\n",
        "#Se usa la formula de la conversión\n",
        "print(f)\n",
        "#Imprime la conversion dando de resultado la temperatura en Fahrenheit"
      ],
      "metadata": {
        "id": "NBtybC8hjfFi"
      },
      "execution_count": null,
      "outputs": []
    },
    {
      "cell_type": "markdown",
      "source": [
        "8. Cuenta atrás: Escribe un programa que cuente hacia atrás desde 10 hasta 0.\n"
      ],
      "metadata": {
        "id": "CuwEzi8SjtCI"
      }
    },
    {
      "cell_type": "code",
      "source": [
        "for i in range(10, -1, -1):\n",
        "  print(i)\n",
        "#Se usa un bucle for para para israr la iteración i para imprimira cada número y el rango que sea desde 10 hasta 0"
      ],
      "metadata": {
        "colab": {
          "base_uri": "https://localhost:8080/"
        },
        "id": "iN-F9zhlj1fC",
        "outputId": "d24921be-948d-4cc6-8cb9-eaed6f565399"
      },
      "execution_count": 13,
      "outputs": [
        {
          "output_type": "stream",
          "name": "stdout",
          "text": [
            "10\n",
            "9\n",
            "8\n",
            "7\n",
            "6\n",
            "5\n",
            "4\n",
            "3\n",
            "2\n",
            "1\n",
            "0\n"
          ]
        }
      ]
    },
    {
      "cell_type": "markdown",
      "source": [
        "9. Tabla de multiplicar: Escribe un programa que muestre la tabla de multiplicar de un número introducido por el usuario."
      ],
      "metadata": {
        "id": "G9isyJYuj3cL"
      }
    },
    {
      "cell_type": "code",
      "source": [
        "numero = int(input(\"Ingrese el número para el cual desea ver la tabla de multiplicar: \"))\n",
        "#Ingresa un número para mostrar la tabla de multiplicación de dicho número como input\n",
        "for i in range(1, 11):\n",
        "  resultado = numero * i\n",
        "  #Se calcula el resultado de la tabla\n",
        "  print(f\"{numero} x {i} = {resultado}\")\n",
        "#Se usa un bucle for para imprimir el calculo y la tabla en si"
      ],
      "metadata": {
        "id": "wobEspsij8Ur"
      },
      "execution_count": null,
      "outputs": []
    },
    {
      "cell_type": "markdown",
      "source": [
        "10. Números primos: Escribe un programa que determine si un número introducido por el usuario es primo.\n"
      ],
      "metadata": {
        "id": "LAhBQYWmkDND"
      }
    },
    {
      "cell_type": "code",
      "source": [
        "numero = int(input(\"Ingrese un número: \"))\n",
        "#Se ingresa un numero como un input\n",
        "if numero <= 1:\n",
        "  print(\"El número debe ser mayor que 1.\")\n",
        "  exit()\n",
        "#Validamos que el numero sea mayor o igual a 1. En caso de que no sea se imprime que es menor a 1 y sale dl programa\n",
        "es_primo = True\n",
        "\n",
        "for i in range(2, int(numero**0.5) + 1):\n",
        "  if numero % i == 0:\n",
        "    es_primo = False\n",
        "    break\n",
        "#Se usa\n",
        "if es_primo:\n",
        "  print(f\"El número {numero} es primo.\")\n",
        "else:\n",
        "  print(f\"El número {numero} no es primo.\")\n"
      ],
      "metadata": {
        "colab": {
          "base_uri": "https://localhost:8080/"
        },
        "id": "2WO0lQlOkHk2",
        "outputId": "c1c3d975-e76c-4490-d7e0-e842e2e4d21a"
      },
      "execution_count": 1,
      "outputs": [
        {
          "output_type": "stream",
          "name": "stdout",
          "text": [
            "Ingrese un número: 3\n",
            "El número 3 es primo.\n"
          ]
        }
      ]
    },
    {
      "cell_type": "markdown",
      "source": [
        "11. Sumar números hasta un límite: Escribe un programa que sume todos los números naturales hasta un número límite introducido por el usuario.\n"
      ],
      "metadata": {
        "id": "vMxQTlBOkLvi"
      }
    },
    {
      "cell_type": "code",
      "source": [
        "numero = int(input(\"Ingrese un número para calcular su factorial: \"))\n",
        "\n",
        "factorial = 1\n",
        "\n",
        "for i in range(1, numero + 1):\n",
        "  factorial *= i\n",
        "\n",
        "print(f\"El factorial de {numero} es: {factorial}\")\n"
      ],
      "metadata": {
        "id": "MWD8e6axkQpu"
      },
      "execution_count": null,
      "outputs": []
    },
    {
      "cell_type": "markdown",
      "source": [
        "12. Invertir una cadena: Escribe un programa que invierta una cadena introducida por el usuario.\n"
      ],
      "metadata": {
        "id": "-J7Nx3g8kUCO"
      }
    },
    {
      "cell_type": "code",
      "source": [
        "cadena = input(\"Ingrese la cadena a invertir: \")\n",
        "\n",
        "cadena_invertida = \"\"\n",
        "\n",
        "for i in range(len(cadena) - 1, -1, -1):\n",
        "  cadena_invertida += cadena[i]\n",
        "\n",
        "print(\"La cadena invertida es:\", cadena_invertida)\n"
      ],
      "metadata": {
        "id": "uOKNEhMukYBZ"
      },
      "execution_count": null,
      "outputs": []
    },
    {
      "cell_type": "markdown",
      "source": [
        "13. Contar vocales: Escribe un programa que cuente el número de vocales en una cadena introducida por el usuario."
      ],
      "metadata": {
        "id": "lQsqgfHWkbZI"
      }
    },
    {
      "cell_type": "code",
      "source": [
        "cadena = input(\"Ingrese una cadena: \")\n",
        "\n",
        "vocales = \"aeiou\"\n",
        "numero_vocales = 0\n",
        "\n",
        "for letra in cadena:\n",
        "  if letra in vocales:\n",
        "    numero_vocales += 1\n",
        "\n",
        "print(f\"La cadena '{cadena}' contiene {numero_vocales} vocales.\")\n"
      ],
      "metadata": {
        "id": "JKWskBFDkf1o"
      },
      "execution_count": null,
      "outputs": []
    },
    {
      "cell_type": "markdown",
      "source": [
        "14. Palíndromo: Escribe un programa que determine si una cadena introducida por el usuario es un palíndromo.\n"
      ],
      "metadata": {
        "id": "761DjrrlkmDW"
      }
    },
    {
      "cell_type": "code",
      "source": [
        "numero = int(input(\"Ingrese un número para calcular su factorial: \"))\n",
        "\n",
        "factorial = 1\n",
        "\n",
        "for i in range(1, numero + 1):\n",
        "  factorial *= i\n",
        "\n",
        "print(f\"El factorial de {numero} es: {factorial}\")\n"
      ],
      "metadata": {
        "id": "jTLiT1L8kpBP"
      },
      "execution_count": null,
      "outputs": []
    },
    {
      "cell_type": "markdown",
      "source": [
        "15. Factorial de un número: Escribe un programa que calcule el factorial de un número introducido por el usuario.\n"
      ],
      "metadata": {
        "id": "jajwmHPRksiK"
      }
    },
    {
      "cell_type": "code",
      "source": [
        "limite = int(input(\"Ingrese el límite para imprimir los números pares: \"))\n",
        "\n",
        "for i in range(1, limite + 1):\n",
        "  if i % 2 == 0:\n",
        "    print(i)\n"
      ],
      "metadata": {
        "id": "Lop5_BDGkwBc"
      },
      "execution_count": null,
      "outputs": []
    },
    {
      "cell_type": "markdown",
      "source": [
        "16. Generar números aleatorios: Escribe un programa que genere y muestre 5 números aleatorios entre 1 y 100"
      ],
      "metadata": {
        "id": "ikkpNwsjk3Jd"
      }
    },
    {
      "cell_type": "code",
      "source": [
        "import random\n",
        "\n",
        "for i in range(5):\n",
        "  numero = random.randint(1, 100)\n",
        "  print(numero)\n"
      ],
      "metadata": {
        "id": "9rdv-yR5k58r"
      },
      "execution_count": null,
      "outputs": []
    },
    {
      "cell_type": "markdown",
      "source": [
        "17. Calculadora de índice de masa corporal (IMC): Escribe un programa que calcule el índice de masa corporal (IMC) a partir del peso y la altura introducidos por el usuario."
      ],
      "metadata": {
        "id": "wXq34saZlBVG"
      }
    },
    {
      "cell_type": "code",
      "source": [
        "peso = float(input(\"Ingrese su peso en kilogramos: \"))\n",
        "altura = float(input(\"Ingrese su altura en metros: \"))\n",
        "\n",
        "imc = peso / (altura ** 2)\n",
        "\n",
        "print(f\"Su IMC es: {imc}\")\n"
      ],
      "metadata": {
        "id": "oTJQoTrblEv9"
      },
      "execution_count": null,
      "outputs": []
    }
  ]
}